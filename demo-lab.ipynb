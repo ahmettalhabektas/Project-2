{
 "cells": [
  {
   "cell_type": "markdown",
   "metadata": {},
   "source": [
    "# demolab-news-popularity-prediction"
   ]
  },
  {
   "cell_type": "markdown",
   "metadata": {},
   "source": [
    "https://www.kaggle.com/competitions/demolab-news-popularity-prediction"
   ]
  },
  {
   "cell_type": "code",
   "execution_count": 208,
   "metadata": {
    "_cell_guid": "b1076dfc-b9ad-4769-8c92-a6c4dae69d19",
    "_uuid": "8f2839f25d086af736a60e9eeb907d3b93b6e0e5",
    "execution": {
     "iopub.execute_input": "2022-08-30T13:03:16.605804Z",
     "iopub.status.busy": "2022-08-30T13:03:16.605322Z",
     "iopub.status.idle": "2022-08-30T13:03:16.622266Z",
     "shell.execute_reply": "2022-08-30T13:03:16.620824Z",
     "shell.execute_reply.started": "2022-08-30T13:03:16.605769Z"
    }
   },
   "outputs": [
    {
     "name": "stdout",
     "output_type": "stream",
     "text": [
      "/kaggle/input/demolab-news-popularity-prediction/data_dictionary.csv\n",
      "/kaggle/input/demolab-news-popularity-prediction/sample.csv\n",
      "/kaggle/input/demolab-news-popularity-prediction/train.csv\n",
      "/kaggle/input/demolab-news-popularity-prediction/test.csv\n"
     ]
    }
   ],
   "source": [
    "# This Python 3 environment comes with many helpful analytics libraries installed\n",
    "# It is defined by the kaggle/python Docker image: https://github.com/kaggle/docker-python\n",
    "# For example, here's several helpful packages to load\n",
    "\n",
    "import numpy as np # linear algebra\n",
    "import pandas as pd # data processing, CSV file I/O (e.g. pd.read_csv)\n",
    "\n",
    "# Input data files are available in the read-only \"../input/\" directory\n",
    "# For example, running this (by clicking run or pressing Shift+Enter) will list all files under the input directory\n",
    "\n",
    "import os\n",
    "for dirname, _, filenames in os.walk('/kaggle/input'):\n",
    "    for filename in filenames:\n",
    "        print(os.path.join(dirname, filename))\n",
    "\n",
    "# You can write up to 20GB to the current directory (/kaggle/working/) that gets preserved as output when you create a version using \"Save & Run All\" \n",
    "# You can also write temporary files to /kaggle/temp/, but they won't be saved outside of the current session"
   ]
  },
  {
   "cell_type": "code",
   "execution_count": 209,
   "metadata": {
    "execution": {
     "iopub.execute_input": "2022-08-30T13:03:16.627780Z",
     "iopub.status.busy": "2022-08-30T13:03:16.626886Z",
     "iopub.status.idle": "2022-08-30T13:03:16.632917Z",
     "shell.execute_reply": "2022-08-30T13:03:16.631937Z",
     "shell.execute_reply.started": "2022-08-30T13:03:16.627741Z"
    }
   },
   "outputs": [],
   "source": [
    "pd.set_option(\"max_columns\",100)\n",
    "pd.set_option(\"max_rows\",100)"
   ]
  },
  {
   "cell_type": "code",
   "execution_count": 210,
   "metadata": {
    "execution": {
     "iopub.execute_input": "2022-08-30T13:03:16.653786Z",
     "iopub.status.busy": "2022-08-30T13:03:16.653141Z",
     "iopub.status.idle": "2022-08-30T13:03:17.068060Z",
     "shell.execute_reply": "2022-08-30T13:03:17.067187Z",
     "shell.execute_reply.started": "2022-08-30T13:03:16.653750Z"
    }
   },
   "outputs": [],
   "source": [
    "train=pd.read_csv(\"../input/demolab-news-popularity-prediction/train.csv\")\n",
    "test=pd.read_csv(\"../input/demolab-news-popularity-prediction/test.csv\")\n",
    "submission=pd.read_csv(\"../input/demolab-news-popularity-prediction/sample.csv\")\n",
    "df=train.append(test)"
   ]
  },
  {
   "cell_type": "code",
   "execution_count": 211,
   "metadata": {
    "execution": {
     "iopub.execute_input": "2022-08-30T13:03:17.070233Z",
     "iopub.status.busy": "2022-08-30T13:03:17.069703Z",
     "iopub.status.idle": "2022-08-30T13:03:17.157617Z",
     "shell.execute_reply": "2022-08-30T13:03:17.156426Z",
     "shell.execute_reply.started": "2022-08-30T13:03:17.070200Z"
    }
   },
   "outputs": [
    {
     "data": {
      "text/html": [
       "<div>\n",
       "<style scoped>\n",
       "    .dataframe tbody tr th:only-of-type {\n",
       "        vertical-align: middle;\n",
       "    }\n",
       "\n",
       "    .dataframe tbody tr th {\n",
       "        vertical-align: top;\n",
       "    }\n",
       "\n",
       "    .dataframe thead th {\n",
       "        text-align: right;\n",
       "    }\n",
       "</style>\n",
       "<table border=\"1\" class=\"dataframe\">\n",
       "  <thead>\n",
       "    <tr style=\"text-align: right;\">\n",
       "      <th></th>\n",
       "      <th>index</th>\n",
       "      <th>id</th>\n",
       "      <th>url</th>\n",
       "      <th>n_tokens_title</th>\n",
       "      <th>n_tokens_content</th>\n",
       "      <th>n_unique_tokens</th>\n",
       "      <th>n_non_stop_words</th>\n",
       "      <th>n_non_stop_unique_tokens</th>\n",
       "      <th>num_hrefs</th>\n",
       "      <th>num_self_hrefs</th>\n",
       "      <th>num_imgs</th>\n",
       "      <th>num_videos</th>\n",
       "      <th>average_token_length</th>\n",
       "      <th>num_keywords</th>\n",
       "      <th>data_channel_is_lifestyle</th>\n",
       "      <th>data_channel_is_entertainment</th>\n",
       "      <th>data_channel_is_bus</th>\n",
       "      <th>data_channel_is_socmed</th>\n",
       "      <th>data_channel_is_tech</th>\n",
       "      <th>data_channel_is_world</th>\n",
       "      <th>kw_min_min</th>\n",
       "      <th>kw_max_min</th>\n",
       "      <th>kw_avg_min</th>\n",
       "      <th>kw_min_max</th>\n",
       "      <th>kw_max_max</th>\n",
       "      <th>kw_avg_max</th>\n",
       "      <th>kw_min_avg</th>\n",
       "      <th>kw_max_avg</th>\n",
       "      <th>kw_avg_avg</th>\n",
       "      <th>self_reference_min_shares</th>\n",
       "      <th>self_reference_max_shares</th>\n",
       "      <th>self_reference_avg_sharess</th>\n",
       "      <th>weekday_is_monday</th>\n",
       "      <th>weekday_is_tuesday</th>\n",
       "      <th>weekday_is_wednesday</th>\n",
       "      <th>weekday_is_thursday</th>\n",
       "      <th>weekday_is_friday</th>\n",
       "      <th>weekday_is_saturday</th>\n",
       "      <th>weekday_is_sunday</th>\n",
       "      <th>is_weekend</th>\n",
       "      <th>LDA_00</th>\n",
       "      <th>LDA_01</th>\n",
       "      <th>LDA_02</th>\n",
       "      <th>LDA_03</th>\n",
       "      <th>LDA_04</th>\n",
       "      <th>global_subjectivity</th>\n",
       "      <th>global_sentiment_polarity</th>\n",
       "      <th>global_rate_positive_words</th>\n",
       "      <th>global_rate_negative_words</th>\n",
       "      <th>rate_positive_words</th>\n",
       "      <th>rate_negative_words</th>\n",
       "      <th>avg_positive_polarity</th>\n",
       "      <th>min_positive_polarity</th>\n",
       "      <th>max_positive_polarity</th>\n",
       "      <th>avg_negative_polarity</th>\n",
       "      <th>min_negative_polarity</th>\n",
       "      <th>max_negative_polarity</th>\n",
       "      <th>title_subjectivity</th>\n",
       "      <th>title_sentiment_polarity</th>\n",
       "      <th>abs_title_subjectivity</th>\n",
       "      <th>abs_title_sentiment_polarity</th>\n",
       "      <th>shares</th>\n",
       "    </tr>\n",
       "  </thead>\n",
       "  <tbody>\n",
       "    <tr>\n",
       "      <th>39639</th>\n",
       "      <td>9906</td>\n",
       "      <td>39639</td>\n",
       "      <td>http://mashable.com/2014/09/18/twitter-iphone-...</td>\n",
       "      <td>8.0</td>\n",
       "      <td>559.0</td>\n",
       "      <td>0.527514</td>\n",
       "      <td>1.0</td>\n",
       "      <td>0.618132</td>\n",
       "      <td>28.0</td>\n",
       "      <td>3.0</td>\n",
       "      <td>26.0</td>\n",
       "      <td>0.0</td>\n",
       "      <td>4.354204</td>\n",
       "      <td>9.0</td>\n",
       "      <td>0.0</td>\n",
       "      <td>0.0</td>\n",
       "      <td>0.0</td>\n",
       "      <td>0.0</td>\n",
       "      <td>0.0</td>\n",
       "      <td>0.0</td>\n",
       "      <td>-1.0</td>\n",
       "      <td>330.0</td>\n",
       "      <td>176.888889</td>\n",
       "      <td>34300.0</td>\n",
       "      <td>843300.0</td>\n",
       "      <td>324855.555556</td>\n",
       "      <td>3479.478861</td>\n",
       "      <td>8880.022321</td>\n",
       "      <td>5955.427525</td>\n",
       "      <td>4100.0</td>\n",
       "      <td>4100.0</td>\n",
       "      <td>4100.0</td>\n",
       "      <td>0.0</td>\n",
       "      <td>0.0</td>\n",
       "      <td>0.0</td>\n",
       "      <td>0.0</td>\n",
       "      <td>1.0</td>\n",
       "      <td>0.0</td>\n",
       "      <td>0.0</td>\n",
       "      <td>0.0</td>\n",
       "      <td>0.022223</td>\n",
       "      <td>0.022392</td>\n",
       "      <td>0.022222</td>\n",
       "      <td>0.910941</td>\n",
       "      <td>0.022222</td>\n",
       "      <td>0.576608</td>\n",
       "      <td>0.156946</td>\n",
       "      <td>0.042934</td>\n",
       "      <td>0.021467</td>\n",
       "      <td>0.666667</td>\n",
       "      <td>0.333333</td>\n",
       "      <td>0.392992</td>\n",
       "      <td>0.1000</td>\n",
       "      <td>1.0</td>\n",
       "      <td>-0.308185</td>\n",
       "      <td>-0.714286</td>\n",
       "      <td>-0.050</td>\n",
       "      <td>1.000000</td>\n",
       "      <td>0.800000</td>\n",
       "      <td>0.500000</td>\n",
       "      <td>0.800000</td>\n",
       "      <td>NaN</td>\n",
       "    </tr>\n",
       "    <tr>\n",
       "      <th>39640</th>\n",
       "      <td>9907</td>\n",
       "      <td>39640</td>\n",
       "      <td>http://mashable.com/2014/01/21/learn-programmi...</td>\n",
       "      <td>12.0</td>\n",
       "      <td>154.0</td>\n",
       "      <td>0.662162</td>\n",
       "      <td>1.0</td>\n",
       "      <td>0.784946</td>\n",
       "      <td>4.0</td>\n",
       "      <td>4.0</td>\n",
       "      <td>1.0</td>\n",
       "      <td>0.0</td>\n",
       "      <td>4.383117</td>\n",
       "      <td>7.0</td>\n",
       "      <td>0.0</td>\n",
       "      <td>0.0</td>\n",
       "      <td>0.0</td>\n",
       "      <td>0.0</td>\n",
       "      <td>1.0</td>\n",
       "      <td>0.0</td>\n",
       "      <td>-1.0</td>\n",
       "      <td>839.0</td>\n",
       "      <td>397.285714</td>\n",
       "      <td>5500.0</td>\n",
       "      <td>843300.0</td>\n",
       "      <td>187442.857143</td>\n",
       "      <td>1377.000000</td>\n",
       "      <td>3687.800000</td>\n",
       "      <td>2856.935903</td>\n",
       "      <td>1700.0</td>\n",
       "      <td>3600.0</td>\n",
       "      <td>2650.0</td>\n",
       "      <td>0.0</td>\n",
       "      <td>1.0</td>\n",
       "      <td>0.0</td>\n",
       "      <td>0.0</td>\n",
       "      <td>0.0</td>\n",
       "      <td>0.0</td>\n",
       "      <td>0.0</td>\n",
       "      <td>0.0</td>\n",
       "      <td>0.028573</td>\n",
       "      <td>0.028573</td>\n",
       "      <td>0.028573</td>\n",
       "      <td>0.313059</td>\n",
       "      <td>0.601223</td>\n",
       "      <td>0.462500</td>\n",
       "      <td>0.150000</td>\n",
       "      <td>0.025974</td>\n",
       "      <td>0.006494</td>\n",
       "      <td>0.800000</td>\n",
       "      <td>0.200000</td>\n",
       "      <td>0.350000</td>\n",
       "      <td>0.1000</td>\n",
       "      <td>0.5</td>\n",
       "      <td>-0.200000</td>\n",
       "      <td>-0.200000</td>\n",
       "      <td>-0.200</td>\n",
       "      <td>0.000000</td>\n",
       "      <td>0.000000</td>\n",
       "      <td>0.500000</td>\n",
       "      <td>0.000000</td>\n",
       "      <td>NaN</td>\n",
       "    </tr>\n",
       "    <tr>\n",
       "      <th>39641</th>\n",
       "      <td>9908</td>\n",
       "      <td>39641</td>\n",
       "      <td>http://mashable.com/2014/01/14/lil-bub-tuxedo-...</td>\n",
       "      <td>13.0</td>\n",
       "      <td>1090.0</td>\n",
       "      <td>0.397388</td>\n",
       "      <td>1.0</td>\n",
       "      <td>0.563291</td>\n",
       "      <td>15.0</td>\n",
       "      <td>0.0</td>\n",
       "      <td>1.0</td>\n",
       "      <td>0.0</td>\n",
       "      <td>4.870642</td>\n",
       "      <td>6.0</td>\n",
       "      <td>0.0</td>\n",
       "      <td>0.0</td>\n",
       "      <td>0.0</td>\n",
       "      <td>0.0</td>\n",
       "      <td>0.0</td>\n",
       "      <td>1.0</td>\n",
       "      <td>-1.0</td>\n",
       "      <td>116.0</td>\n",
       "      <td>48.800000</td>\n",
       "      <td>0.0</td>\n",
       "      <td>NaN</td>\n",
       "      <td>181850.000000</td>\n",
       "      <td>0.000000</td>\n",
       "      <td>3540.080716</td>\n",
       "      <td>2163.278154</td>\n",
       "      <td>NaN</td>\n",
       "      <td>0.0</td>\n",
       "      <td>0.0</td>\n",
       "      <td>0.0</td>\n",
       "      <td>1.0</td>\n",
       "      <td>0.0</td>\n",
       "      <td>0.0</td>\n",
       "      <td>0.0</td>\n",
       "      <td>0.0</td>\n",
       "      <td>0.0</td>\n",
       "      <td>0.0</td>\n",
       "      <td>0.033335</td>\n",
       "      <td>0.033335</td>\n",
       "      <td>0.866660</td>\n",
       "      <td>0.033334</td>\n",
       "      <td>0.033335</td>\n",
       "      <td>0.371112</td>\n",
       "      <td>0.129716</td>\n",
       "      <td>0.039450</td>\n",
       "      <td>0.012844</td>\n",
       "      <td>0.754386</td>\n",
       "      <td>0.245614</td>\n",
       "      <td>0.387531</td>\n",
       "      <td>0.0500</td>\n",
       "      <td>1.0</td>\n",
       "      <td>-0.190179</td>\n",
       "      <td>-0.600000</td>\n",
       "      <td>-0.050</td>\n",
       "      <td>0.000000</td>\n",
       "      <td>0.000000</td>\n",
       "      <td>0.500000</td>\n",
       "      <td>0.000000</td>\n",
       "      <td>NaN</td>\n",
       "    </tr>\n",
       "    <tr>\n",
       "      <th>39642</th>\n",
       "      <td>9909</td>\n",
       "      <td>39642</td>\n",
       "      <td>http://mashable.com/2014/03/26/social-media-ma...</td>\n",
       "      <td>10.0</td>\n",
       "      <td>476.0</td>\n",
       "      <td>0.445860</td>\n",
       "      <td>1.0</td>\n",
       "      <td>0.566225</td>\n",
       "      <td>4.0</td>\n",
       "      <td>3.0</td>\n",
       "      <td>15.0</td>\n",
       "      <td>0.0</td>\n",
       "      <td>4.579832</td>\n",
       "      <td>7.0</td>\n",
       "      <td>0.0</td>\n",
       "      <td>0.0</td>\n",
       "      <td>0.0</td>\n",
       "      <td>0.0</td>\n",
       "      <td>1.0</td>\n",
       "      <td>0.0</td>\n",
       "      <td>-1.0</td>\n",
       "      <td>6000.0</td>\n",
       "      <td>1152.285714</td>\n",
       "      <td>2400.0</td>\n",
       "      <td>843300.0</td>\n",
       "      <td>182242.857143</td>\n",
       "      <td>1425.571429</td>\n",
       "      <td>6000.000000</td>\n",
       "      <td>2883.636040</td>\n",
       "      <td>901.0</td>\n",
       "      <td>3100.0</td>\n",
       "      <td>1867.0</td>\n",
       "      <td>0.0</td>\n",
       "      <td>0.0</td>\n",
       "      <td>1.0</td>\n",
       "      <td>0.0</td>\n",
       "      <td>0.0</td>\n",
       "      <td>0.0</td>\n",
       "      <td>NaN</td>\n",
       "      <td>0.0</td>\n",
       "      <td>0.028603</td>\n",
       "      <td>0.171171</td>\n",
       "      <td>0.028573</td>\n",
       "      <td>0.028572</td>\n",
       "      <td>0.743082</td>\n",
       "      <td>0.427942</td>\n",
       "      <td>0.167212</td>\n",
       "      <td>0.056723</td>\n",
       "      <td>0.010504</td>\n",
       "      <td>0.843750</td>\n",
       "      <td>0.156250</td>\n",
       "      <td>0.336742</td>\n",
       "      <td>0.0625</td>\n",
       "      <td>1.0</td>\n",
       "      <td>-0.231944</td>\n",
       "      <td>-0.388889</td>\n",
       "      <td>-0.125</td>\n",
       "      <td>0.498106</td>\n",
       "      <td>-0.077652</td>\n",
       "      <td>0.001894</td>\n",
       "      <td>0.077652</td>\n",
       "      <td>NaN</td>\n",
       "    </tr>\n",
       "    <tr>\n",
       "      <th>39643</th>\n",
       "      <td>9910</td>\n",
       "      <td>39643</td>\n",
       "      <td>http://mashable.com/2013/09/11/sport-science-j...</td>\n",
       "      <td>8.0</td>\n",
       "      <td>756.0</td>\n",
       "      <td>0.446381</td>\n",
       "      <td>1.0</td>\n",
       "      <td>0.644928</td>\n",
       "      <td>9.0</td>\n",
       "      <td>2.0</td>\n",
       "      <td>1.0</td>\n",
       "      <td>0.0</td>\n",
       "      <td>4.386243</td>\n",
       "      <td>7.0</td>\n",
       "      <td>0.0</td>\n",
       "      <td>0.0</td>\n",
       "      <td>1.0</td>\n",
       "      <td>0.0</td>\n",
       "      <td>0.0</td>\n",
       "      <td>0.0</td>\n",
       "      <td>4.0</td>\n",
       "      <td>1200.0</td>\n",
       "      <td>312.714286</td>\n",
       "      <td>9900.0</td>\n",
       "      <td>843300.0</td>\n",
       "      <td>258871.428571</td>\n",
       "      <td>2356.097458</td>\n",
       "      <td>4450.000000</td>\n",
       "      <td>3305.848052</td>\n",
       "      <td>2700.0</td>\n",
       "      <td>5200.0</td>\n",
       "      <td>3950.0</td>\n",
       "      <td>0.0</td>\n",
       "      <td>0.0</td>\n",
       "      <td>1.0</td>\n",
       "      <td>0.0</td>\n",
       "      <td>0.0</td>\n",
       "      <td>0.0</td>\n",
       "      <td>0.0</td>\n",
       "      <td>0.0</td>\n",
       "      <td>0.885526</td>\n",
       "      <td>0.028590</td>\n",
       "      <td>0.028581</td>\n",
       "      <td>0.028601</td>\n",
       "      <td>0.028701</td>\n",
       "      <td>0.434025</td>\n",
       "      <td>0.148562</td>\n",
       "      <td>0.058201</td>\n",
       "      <td>0.014550</td>\n",
       "      <td>0.800000</td>\n",
       "      <td>0.200000</td>\n",
       "      <td>0.325841</td>\n",
       "      <td>0.1000</td>\n",
       "      <td>0.9</td>\n",
       "      <td>-0.186364</td>\n",
       "      <td>-0.300000</td>\n",
       "      <td>-0.100</td>\n",
       "      <td>0.000000</td>\n",
       "      <td>0.000000</td>\n",
       "      <td>0.500000</td>\n",
       "      <td>0.000000</td>\n",
       "      <td>NaN</td>\n",
       "    </tr>\n",
       "  </tbody>\n",
       "</table>\n",
       "</div>"
      ],
      "text/plain": [
       "       index     id                                                url  \\\n",
       "39639   9906  39639  http://mashable.com/2014/09/18/twitter-iphone-...   \n",
       "39640   9907  39640  http://mashable.com/2014/01/21/learn-programmi...   \n",
       "39641   9908  39641  http://mashable.com/2014/01/14/lil-bub-tuxedo-...   \n",
       "39642   9909  39642  http://mashable.com/2014/03/26/social-media-ma...   \n",
       "39643   9910  39643  http://mashable.com/2013/09/11/sport-science-j...   \n",
       "\n",
       "       n_tokens_title  n_tokens_content  n_unique_tokens  n_non_stop_words  \\\n",
       "39639             8.0             559.0         0.527514               1.0   \n",
       "39640            12.0             154.0         0.662162               1.0   \n",
       "39641            13.0            1090.0         0.397388               1.0   \n",
       "39642            10.0             476.0         0.445860               1.0   \n",
       "39643             8.0             756.0         0.446381               1.0   \n",
       "\n",
       "       n_non_stop_unique_tokens  num_hrefs  num_self_hrefs  num_imgs  \\\n",
       "39639                  0.618132       28.0             3.0      26.0   \n",
       "39640                  0.784946        4.0             4.0       1.0   \n",
       "39641                  0.563291       15.0             0.0       1.0   \n",
       "39642                  0.566225        4.0             3.0      15.0   \n",
       "39643                  0.644928        9.0             2.0       1.0   \n",
       "\n",
       "       num_videos  average_token_length  num_keywords  \\\n",
       "39639         0.0              4.354204           9.0   \n",
       "39640         0.0              4.383117           7.0   \n",
       "39641         0.0              4.870642           6.0   \n",
       "39642         0.0              4.579832           7.0   \n",
       "39643         0.0              4.386243           7.0   \n",
       "\n",
       "       data_channel_is_lifestyle  data_channel_is_entertainment  \\\n",
       "39639                        0.0                            0.0   \n",
       "39640                        0.0                            0.0   \n",
       "39641                        0.0                            0.0   \n",
       "39642                        0.0                            0.0   \n",
       "39643                        0.0                            0.0   \n",
       "\n",
       "       data_channel_is_bus  data_channel_is_socmed  data_channel_is_tech  \\\n",
       "39639                  0.0                     0.0                   0.0   \n",
       "39640                  0.0                     0.0                   1.0   \n",
       "39641                  0.0                     0.0                   0.0   \n",
       "39642                  0.0                     0.0                   1.0   \n",
       "39643                  1.0                     0.0                   0.0   \n",
       "\n",
       "       data_channel_is_world  kw_min_min  kw_max_min   kw_avg_min  kw_min_max  \\\n",
       "39639                    0.0        -1.0       330.0   176.888889     34300.0   \n",
       "39640                    0.0        -1.0       839.0   397.285714      5500.0   \n",
       "39641                    1.0        -1.0       116.0    48.800000         0.0   \n",
       "39642                    0.0        -1.0      6000.0  1152.285714      2400.0   \n",
       "39643                    0.0         4.0      1200.0   312.714286      9900.0   \n",
       "\n",
       "       kw_max_max     kw_avg_max   kw_min_avg   kw_max_avg   kw_avg_avg  \\\n",
       "39639    843300.0  324855.555556  3479.478861  8880.022321  5955.427525   \n",
       "39640    843300.0  187442.857143  1377.000000  3687.800000  2856.935903   \n",
       "39641         NaN  181850.000000     0.000000  3540.080716  2163.278154   \n",
       "39642    843300.0  182242.857143  1425.571429  6000.000000  2883.636040   \n",
       "39643    843300.0  258871.428571  2356.097458  4450.000000  3305.848052   \n",
       "\n",
       "       self_reference_min_shares  self_reference_max_shares  \\\n",
       "39639                     4100.0                     4100.0   \n",
       "39640                     1700.0                     3600.0   \n",
       "39641                        NaN                        0.0   \n",
       "39642                      901.0                     3100.0   \n",
       "39643                     2700.0                     5200.0   \n",
       "\n",
       "       self_reference_avg_sharess  weekday_is_monday  weekday_is_tuesday  \\\n",
       "39639                      4100.0                0.0                 0.0   \n",
       "39640                      2650.0                0.0                 1.0   \n",
       "39641                         0.0                0.0                 1.0   \n",
       "39642                      1867.0                0.0                 0.0   \n",
       "39643                      3950.0                0.0                 0.0   \n",
       "\n",
       "       weekday_is_wednesday  weekday_is_thursday  weekday_is_friday  \\\n",
       "39639                   0.0                  0.0                1.0   \n",
       "39640                   0.0                  0.0                0.0   \n",
       "39641                   0.0                  0.0                0.0   \n",
       "39642                   1.0                  0.0                0.0   \n",
       "39643                   1.0                  0.0                0.0   \n",
       "\n",
       "       weekday_is_saturday  weekday_is_sunday  is_weekend    LDA_00    LDA_01  \\\n",
       "39639                  0.0                0.0         0.0  0.022223  0.022392   \n",
       "39640                  0.0                0.0         0.0  0.028573  0.028573   \n",
       "39641                  0.0                0.0         0.0  0.033335  0.033335   \n",
       "39642                  0.0                NaN         0.0  0.028603  0.171171   \n",
       "39643                  0.0                0.0         0.0  0.885526  0.028590   \n",
       "\n",
       "         LDA_02    LDA_03    LDA_04  global_subjectivity  \\\n",
       "39639  0.022222  0.910941  0.022222             0.576608   \n",
       "39640  0.028573  0.313059  0.601223             0.462500   \n",
       "39641  0.866660  0.033334  0.033335             0.371112   \n",
       "39642  0.028573  0.028572  0.743082             0.427942   \n",
       "39643  0.028581  0.028601  0.028701             0.434025   \n",
       "\n",
       "       global_sentiment_polarity  global_rate_positive_words  \\\n",
       "39639                   0.156946                    0.042934   \n",
       "39640                   0.150000                    0.025974   \n",
       "39641                   0.129716                    0.039450   \n",
       "39642                   0.167212                    0.056723   \n",
       "39643                   0.148562                    0.058201   \n",
       "\n",
       "       global_rate_negative_words  rate_positive_words  rate_negative_words  \\\n",
       "39639                    0.021467             0.666667             0.333333   \n",
       "39640                    0.006494             0.800000             0.200000   \n",
       "39641                    0.012844             0.754386             0.245614   \n",
       "39642                    0.010504             0.843750             0.156250   \n",
       "39643                    0.014550             0.800000             0.200000   \n",
       "\n",
       "       avg_positive_polarity  min_positive_polarity  max_positive_polarity  \\\n",
       "39639               0.392992                 0.1000                    1.0   \n",
       "39640               0.350000                 0.1000                    0.5   \n",
       "39641               0.387531                 0.0500                    1.0   \n",
       "39642               0.336742                 0.0625                    1.0   \n",
       "39643               0.325841                 0.1000                    0.9   \n",
       "\n",
       "       avg_negative_polarity  min_negative_polarity  max_negative_polarity  \\\n",
       "39639              -0.308185              -0.714286                 -0.050   \n",
       "39640              -0.200000              -0.200000                 -0.200   \n",
       "39641              -0.190179              -0.600000                 -0.050   \n",
       "39642              -0.231944              -0.388889                 -0.125   \n",
       "39643              -0.186364              -0.300000                 -0.100   \n",
       "\n",
       "       title_subjectivity  title_sentiment_polarity  abs_title_subjectivity  \\\n",
       "39639            1.000000                  0.800000                0.500000   \n",
       "39640            0.000000                  0.000000                0.500000   \n",
       "39641            0.000000                  0.000000                0.500000   \n",
       "39642            0.498106                 -0.077652                0.001894   \n",
       "39643            0.000000                  0.000000                0.500000   \n",
       "\n",
       "       abs_title_sentiment_polarity  shares  \n",
       "39639                      0.800000     NaN  \n",
       "39640                      0.000000     NaN  \n",
       "39641                      0.000000     NaN  \n",
       "39642                      0.077652     NaN  \n",
       "39643                      0.000000     NaN  "
      ]
     },
     "execution_count": 211,
     "metadata": {},
     "output_type": "execute_result"
    }
   ],
   "source": [
    "df=df.reset_index()\n",
    "df.tail()"
   ]
  },
  {
   "cell_type": "code",
   "execution_count": 212,
   "metadata": {
    "execution": {
     "iopub.execute_input": "2022-08-30T13:03:17.159238Z",
     "iopub.status.busy": "2022-08-30T13:03:17.158888Z",
     "iopub.status.idle": "2022-08-30T13:03:17.185837Z",
     "shell.execute_reply": "2022-08-30T13:03:17.184626Z",
     "shell.execute_reply.started": "2022-08-30T13:03:17.159198Z"
    }
   },
   "outputs": [
    {
     "name": "stdout",
     "output_type": "stream",
     "text": [
      "<class 'pandas.core.frame.DataFrame'>\n",
      "RangeIndex: 39644 entries, 0 to 39643\n",
      "Data columns (total 62 columns):\n",
      " #   Column                         Non-Null Count  Dtype  \n",
      "---  ------                         --------------  -----  \n",
      " 0   index                          39644 non-null  int64  \n",
      " 1   id                             39644 non-null  int64  \n",
      " 2   url                            39644 non-null  object \n",
      " 3   n_tokens_title                 39644 non-null  float64\n",
      " 4   n_tokens_content               39644 non-null  float64\n",
      " 5   n_unique_tokens                39644 non-null  float64\n",
      " 6   n_non_stop_words               39644 non-null  float64\n",
      " 7   n_non_stop_unique_tokens       39644 non-null  float64\n",
      " 8   num_hrefs                      38558 non-null  float64\n",
      " 9   num_self_hrefs                 33508 non-null  float64\n",
      " 10  num_imgs                       32379 non-null  float64\n",
      " 11  num_videos                     38845 non-null  float64\n",
      " 12  average_token_length           39644 non-null  float64\n",
      " 13  num_keywords                   39012 non-null  float64\n",
      " 14  data_channel_is_lifestyle      39644 non-null  float64\n",
      " 15  data_channel_is_entertainment  39644 non-null  float64\n",
      " 16  data_channel_is_bus            39644 non-null  float64\n",
      " 17  data_channel_is_socmed         39644 non-null  float64\n",
      " 18  data_channel_is_tech           39644 non-null  float64\n",
      " 19  data_channel_is_world          39644 non-null  float64\n",
      " 20  kw_min_min                     38203 non-null  float64\n",
      " 21  kw_max_min                     39052 non-null  float64\n",
      " 22  kw_avg_min                     39533 non-null  float64\n",
      " 23  kw_min_max                     39475 non-null  float64\n",
      " 24  kw_max_max                     37625 non-null  float64\n",
      " 25  kw_avg_max                     39493 non-null  float64\n",
      " 26  kw_min_avg                     39232 non-null  float64\n",
      " 27  kw_max_avg                     38738 non-null  float64\n",
      " 28  kw_avg_avg                     38379 non-null  float64\n",
      " 29  self_reference_min_shares      39254 non-null  float64\n",
      " 30  self_reference_max_shares      37354 non-null  float64\n",
      " 31  self_reference_avg_sharess     39218 non-null  float64\n",
      " 32  weekday_is_monday              38339 non-null  float64\n",
      " 33  weekday_is_tuesday             38630 non-null  float64\n",
      " 34  weekday_is_wednesday           37610 non-null  float64\n",
      " 35  weekday_is_thursday            39245 non-null  float64\n",
      " 36  weekday_is_friday              38491 non-null  float64\n",
      " 37  weekday_is_saturday            39527 non-null  float64\n",
      " 38  weekday_is_sunday              37657 non-null  float64\n",
      " 39  is_weekend                     36773 non-null  float64\n",
      " 40  LDA_00                         39644 non-null  float64\n",
      " 41  LDA_01                         39644 non-null  float64\n",
      " 42  LDA_02                         39644 non-null  float64\n",
      " 43  LDA_03                         39644 non-null  float64\n",
      " 44  LDA_04                         39644 non-null  float64\n",
      " 45  global_subjectivity            36646 non-null  float64\n",
      " 46  global_sentiment_polarity      39195 non-null  float64\n",
      " 47  global_rate_positive_words     38536 non-null  float64\n",
      " 48  global_rate_negative_words     38439 non-null  float64\n",
      " 49  rate_positive_words            38882 non-null  float64\n",
      " 50  rate_negative_words            38866 non-null  float64\n",
      " 51  avg_positive_polarity          38010 non-null  float64\n",
      " 52  min_positive_polarity          39028 non-null  float64\n",
      " 53  max_positive_polarity          39430 non-null  float64\n",
      " 54  avg_negative_polarity          39398 non-null  float64\n",
      " 55  min_negative_polarity          38627 non-null  float64\n",
      " 56  max_negative_polarity          38681 non-null  float64\n",
      " 57  title_subjectivity             39477 non-null  float64\n",
      " 58  title_sentiment_polarity       39297 non-null  float64\n",
      " 59  abs_title_subjectivity         38573 non-null  float64\n",
      " 60  abs_title_sentiment_polarity   37748 non-null  float64\n",
      " 61  shares                         29733 non-null  float64\n",
      "dtypes: float64(59), int64(2), object(1)\n",
      "memory usage: 18.8+ MB\n"
     ]
    }
   ],
   "source": [
    "df.info()"
   ]
  },
  {
   "cell_type": "code",
   "execution_count": 213,
   "metadata": {
    "execution": {
     "iopub.execute_input": "2022-08-30T13:03:17.189225Z",
     "iopub.status.busy": "2022-08-30T13:03:17.188852Z",
     "iopub.status.idle": "2022-08-30T13:03:17.195982Z",
     "shell.execute_reply": "2022-08-30T13:03:17.195109Z",
     "shell.execute_reply.started": "2022-08-30T13:03:17.189184Z"
    }
   },
   "outputs": [],
   "source": [
    "del df[\"url\"]"
   ]
  },
  {
   "cell_type": "code",
   "execution_count": 214,
   "metadata": {
    "execution": {
     "iopub.execute_input": "2022-08-30T13:03:17.197364Z",
     "iopub.status.busy": "2022-08-30T13:03:17.197051Z",
     "iopub.status.idle": "2022-08-30T13:03:17.209795Z",
     "shell.execute_reply": "2022-08-30T13:03:17.208391Z",
     "shell.execute_reply.started": "2022-08-30T13:03:17.197335Z"
    }
   },
   "outputs": [
    {
     "data": {
      "text/plain": [
       "(29733, 61)"
      ]
     },
     "execution_count": 214,
     "metadata": {},
     "output_type": "execute_result"
    }
   ],
   "source": [
    "train.shape"
   ]
  },
  {
   "cell_type": "code",
   "execution_count": 215,
   "metadata": {
    "execution": {
     "iopub.execute_input": "2022-08-30T13:03:17.212083Z",
     "iopub.status.busy": "2022-08-30T13:03:17.211227Z",
     "iopub.status.idle": "2022-08-30T13:03:17.227253Z",
     "shell.execute_reply": "2022-08-30T13:03:17.226128Z",
     "shell.execute_reply.started": "2022-08-30T13:03:17.212033Z"
    }
   },
   "outputs": [],
   "source": [
    "miss=df.isnull().sum()\n",
    "listoffet=miss[miss>0].sort_values(ascending=False).keys().tolist()"
   ]
  },
  {
   "cell_type": "code",
   "execution_count": 216,
   "metadata": {
    "execution": {
     "iopub.execute_input": "2022-08-30T13:03:17.230106Z",
     "iopub.status.busy": "2022-08-30T13:03:17.229272Z",
     "iopub.status.idle": "2022-08-30T13:03:17.235920Z",
     "shell.execute_reply": "2022-08-30T13:03:17.234478Z",
     "shell.execute_reply.started": "2022-08-30T13:03:17.230054Z"
    }
   },
   "outputs": [],
   "source": [
    "listoffet.remove(\"shares\")"
   ]
  },
  {
   "cell_type": "code",
   "execution_count": 217,
   "metadata": {
    "execution": {
     "iopub.execute_input": "2022-08-30T13:03:17.238626Z",
     "iopub.status.busy": "2022-08-30T13:03:17.237530Z",
     "iopub.status.idle": "2022-08-30T13:03:17.271873Z",
     "shell.execute_reply": "2022-08-30T13:03:17.270869Z",
     "shell.execute_reply.started": "2022-08-30T13:03:17.238574Z"
    }
   },
   "outputs": [],
   "source": [
    "for i in range(len(listoffet)):\n",
    "    df[listoffet[i]].fillna(df[listoffet[i]].mean(),inplace=True)"
   ]
  },
  {
   "cell_type": "code",
   "execution_count": 218,
   "metadata": {
    "execution": {
     "iopub.execute_input": "2022-08-30T13:03:17.273751Z",
     "iopub.status.busy": "2022-08-30T13:03:17.273277Z",
     "iopub.status.idle": "2022-08-30T13:03:17.289269Z",
     "shell.execute_reply": "2022-08-30T13:03:17.288427Z",
     "shell.execute_reply.started": "2022-08-30T13:03:17.273707Z"
    }
   },
   "outputs": [
    {
     "data": {
      "text/plain": [
       "index                               0\n",
       "id                                  0\n",
       "n_tokens_title                      0\n",
       "n_tokens_content                    0\n",
       "n_unique_tokens                     0\n",
       "n_non_stop_words                    0\n",
       "n_non_stop_unique_tokens            0\n",
       "num_hrefs                           0\n",
       "num_self_hrefs                      0\n",
       "num_imgs                            0\n",
       "num_videos                          0\n",
       "average_token_length                0\n",
       "num_keywords                        0\n",
       "data_channel_is_lifestyle           0\n",
       "data_channel_is_entertainment       0\n",
       "data_channel_is_bus                 0\n",
       "data_channel_is_socmed              0\n",
       "data_channel_is_tech                0\n",
       "data_channel_is_world               0\n",
       "kw_min_min                          0\n",
       "kw_max_min                          0\n",
       "kw_avg_min                          0\n",
       "kw_min_max                          0\n",
       "kw_max_max                          0\n",
       "kw_avg_max                          0\n",
       "kw_min_avg                          0\n",
       "kw_max_avg                          0\n",
       "kw_avg_avg                          0\n",
       "self_reference_min_shares           0\n",
       "self_reference_max_shares           0\n",
       "self_reference_avg_sharess          0\n",
       "weekday_is_monday                   0\n",
       "weekday_is_tuesday                  0\n",
       "weekday_is_wednesday                0\n",
       "weekday_is_thursday                 0\n",
       "weekday_is_friday                   0\n",
       "weekday_is_saturday                 0\n",
       "weekday_is_sunday                   0\n",
       "is_weekend                          0\n",
       "LDA_00                              0\n",
       "LDA_01                              0\n",
       "LDA_02                              0\n",
       "LDA_03                              0\n",
       "LDA_04                              0\n",
       "global_subjectivity                 0\n",
       "global_sentiment_polarity           0\n",
       "global_rate_positive_words          0\n",
       "global_rate_negative_words          0\n",
       "rate_positive_words                 0\n",
       "rate_negative_words                 0\n",
       "avg_positive_polarity               0\n",
       "min_positive_polarity               0\n",
       "max_positive_polarity               0\n",
       "avg_negative_polarity               0\n",
       "min_negative_polarity               0\n",
       "max_negative_polarity               0\n",
       "title_subjectivity                  0\n",
       "title_sentiment_polarity            0\n",
       "abs_title_subjectivity              0\n",
       "abs_title_sentiment_polarity        0\n",
       "shares                           9911\n",
       "dtype: int64"
      ]
     },
     "execution_count": 218,
     "metadata": {},
     "output_type": "execute_result"
    }
   ],
   "source": [
    "df.isnull().sum()"
   ]
  },
  {
   "cell_type": "code",
   "execution_count": 219,
   "metadata": {
    "execution": {
     "iopub.execute_input": "2022-08-30T13:03:17.292936Z",
     "iopub.status.busy": "2022-08-30T13:03:17.292570Z",
     "iopub.status.idle": "2022-08-30T13:03:17.299414Z",
     "shell.execute_reply": "2022-08-30T13:03:17.298202Z",
     "shell.execute_reply.started": "2022-08-30T13:03:17.292904Z"
    }
   },
   "outputs": [
    {
     "data": {
      "text/plain": [
       "(29733, 61)"
      ]
     },
     "execution_count": 219,
     "metadata": {},
     "output_type": "execute_result"
    }
   ],
   "source": [
    "train.shape"
   ]
  },
  {
   "cell_type": "code",
   "execution_count": 220,
   "metadata": {
    "execution": {
     "iopub.execute_input": "2022-08-30T13:03:17.301928Z",
     "iopub.status.busy": "2022-08-30T13:03:17.301431Z",
     "iopub.status.idle": "2022-08-30T13:03:17.316935Z",
     "shell.execute_reply": "2022-08-30T13:03:17.315567Z",
     "shell.execute_reply.started": "2022-08-30T13:03:17.301882Z"
    }
   },
   "outputs": [],
   "source": [
    "df.drop([\"index\",\"id\"],axis=1,inplace=True)"
   ]
  },
  {
   "cell_type": "code",
   "execution_count": 221,
   "metadata": {
    "execution": {
     "iopub.execute_input": "2022-08-30T13:03:17.320293Z",
     "iopub.status.busy": "2022-08-30T13:03:17.319271Z",
     "iopub.status.idle": "2022-08-30T13:03:17.334047Z",
     "shell.execute_reply": "2022-08-30T13:03:17.333022Z",
     "shell.execute_reply.started": "2022-08-30T13:03:17.320246Z"
    }
   },
   "outputs": [],
   "source": [
    "train=df.loc[0:29732]\n",
    "test=df.loc[29733:]\n",
    "x_train=train.drop(\"shares\",axis=1)\n",
    "y_train=train[\"shares\"]\n",
    "test=test.drop(\"shares\",axis=1)"
   ]
  },
  {
   "cell_type": "code",
   "execution_count": 222,
   "metadata": {
    "execution": {
     "iopub.execute_input": "2022-08-30T13:03:17.336801Z",
     "iopub.status.busy": "2022-08-30T13:03:17.335886Z",
     "iopub.status.idle": "2022-08-30T13:03:17.349434Z",
     "shell.execute_reply": "2022-08-30T13:03:17.348208Z",
     "shell.execute_reply.started": "2022-08-30T13:03:17.336752Z"
    }
   },
   "outputs": [],
   "source": [
    "from sklearn.linear_model import LinearRegression\n",
    "from sklearn.linear_model import Ridge,Lasso\n",
    "from sklearn.linear_model import ElasticNet\n",
    "from sklearn.neighbors import KNeighborsRegressor\n",
    "from sklearn.ensemble import GradientBoostingRegressor\n",
    "from sklearn.tree import ExtraTreeRegressor\n",
    "from sklearn.tree import DecisionTreeRegressor\n",
    "from xgboost import XGBRegressor\n",
    "from sklearn.model_selection import train_test_split\n",
    "from sklearn.metrics import mean_squared_error,r2_score,mean_absolute_error"
   ]
  },
  {
   "cell_type": "code",
   "execution_count": 223,
   "metadata": {
    "execution": {
     "iopub.execute_input": "2022-08-30T13:03:17.352404Z",
     "iopub.status.busy": "2022-08-30T13:03:17.351232Z",
     "iopub.status.idle": "2022-08-30T13:03:17.366336Z",
     "shell.execute_reply": "2022-08-30T13:03:17.365081Z",
     "shell.execute_reply.started": "2022-08-30T13:03:17.352361Z"
    }
   },
   "outputs": [],
   "source": [
    "L=LinearRegression()\n",
    "R=Ridge()\n",
    "Lass=Lasso()\n",
    "E=ElasticNet()\n",
    "ETR=ExtraTreeRegressor()\n",
    "GBR=GradientBoostingRegressor()\n",
    "kn=KNeighborsRegressor()\n",
    "dt=DecisionTreeRegressor()\n",
    "xgb=XGBRegressor()"
   ]
  },
  {
   "cell_type": "code",
   "execution_count": 224,
   "metadata": {
    "execution": {
     "iopub.execute_input": "2022-08-30T13:03:17.368830Z",
     "iopub.status.busy": "2022-08-30T13:03:17.368202Z",
     "iopub.status.idle": "2022-08-30T13:03:17.566599Z",
     "shell.execute_reply": "2022-08-30T13:03:17.565566Z",
     "shell.execute_reply.started": "2022-08-30T13:03:17.368790Z"
    }
   },
   "outputs": [],
   "source": [
    "model=L.fit(x_train,y_train)\n",
    "y_pred=model.predict(test)\n",
    "submission[\"shares\"]=y_pred\n",
    "submission.to_csv(\"pred_L.csv\",index=False)"
   ]
  },
  {
   "cell_type": "code",
   "execution_count": 225,
   "metadata": {
    "execution": {
     "iopub.execute_input": "2022-08-30T13:03:17.569079Z",
     "iopub.status.busy": "2022-08-30T13:03:17.568218Z",
     "iopub.status.idle": "2022-08-30T13:03:17.668258Z",
     "shell.execute_reply": "2022-08-30T13:03:17.666566Z",
     "shell.execute_reply.started": "2022-08-30T13:03:17.569027Z"
    }
   },
   "outputs": [],
   "source": [
    "model=R.fit(x_train,y_train)\n",
    "y_pred=model.predict(test)\n",
    "submission[\"shares\"]=y_pred\n",
    "submission.to_csv(\"pred_R.csv\",index=False)"
   ]
  },
  {
   "cell_type": "code",
   "execution_count": 226,
   "metadata": {
    "execution": {
     "iopub.execute_input": "2022-08-30T13:03:17.670915Z",
     "iopub.status.busy": "2022-08-30T13:03:17.669919Z",
     "iopub.status.idle": "2022-08-30T13:03:19.355787Z",
     "shell.execute_reply": "2022-08-30T13:03:19.354518Z",
     "shell.execute_reply.started": "2022-08-30T13:03:17.670869Z"
    }
   },
   "outputs": [
    {
     "name": "stderr",
     "output_type": "stream",
     "text": [
      "/opt/conda/lib/python3.7/site-packages/sklearn/linear_model/_coordinate_descent.py:648: ConvergenceWarning: Objective did not converge. You might want to increase the number of iterations, check the scale of the features or consider increasing regularisation. Duality gap: 2.109e+12, tolerance: 4.434e+08\n",
      "  coef_, l1_reg, l2_reg, X, y, max_iter, tol, rng, random, positive\n"
     ]
    }
   ],
   "source": [
    "model=Lass.fit(x_train,y_train)\n",
    "y_pred=model.predict(test)\n",
    "submission[\"shares\"]=y_pred\n",
    "submission.to_csv(\"pred_lass.csv\",index=False)"
   ]
  },
  {
   "cell_type": "code",
   "execution_count": 227,
   "metadata": {
    "execution": {
     "iopub.execute_input": "2022-08-30T13:03:19.358893Z",
     "iopub.status.busy": "2022-08-30T13:03:19.357966Z",
     "iopub.status.idle": "2022-08-30T13:03:19.933784Z",
     "shell.execute_reply": "2022-08-30T13:03:19.932330Z",
     "shell.execute_reply.started": "2022-08-30T13:03:19.358840Z"
    }
   },
   "outputs": [],
   "source": [
    "model=E.fit(x_train,y_train)\n",
    "y_pred=model.predict(test)\n",
    "submission[\"shares\"]=y_pred\n",
    "submission.to_csv(\"pred_E.csv\",index=False)"
   ]
  },
  {
   "cell_type": "code",
   "execution_count": 228,
   "metadata": {
    "execution": {
     "iopub.execute_input": "2022-08-30T13:03:19.935931Z",
     "iopub.status.busy": "2022-08-30T13:03:19.935514Z",
     "iopub.status.idle": "2022-08-30T13:03:20.430016Z",
     "shell.execute_reply": "2022-08-30T13:03:20.428895Z",
     "shell.execute_reply.started": "2022-08-30T13:03:19.935888Z"
    }
   },
   "outputs": [],
   "source": [
    "model=ETR.fit(x_train,y_train)\n",
    "y_pred=model.predict(test)\n",
    "submission[\"shares\"]=y_pred\n",
    "submission.to_csv(\"pred_ETR.csv\",index=False)"
   ]
  },
  {
   "cell_type": "code",
   "execution_count": 229,
   "metadata": {
    "execution": {
     "iopub.execute_input": "2022-08-30T13:03:20.431824Z",
     "iopub.status.busy": "2022-08-30T13:03:20.431250Z",
     "iopub.status.idle": "2022-08-30T13:03:48.605145Z",
     "shell.execute_reply": "2022-08-30T13:03:48.603935Z",
     "shell.execute_reply.started": "2022-08-30T13:03:20.431779Z"
    }
   },
   "outputs": [],
   "source": [
    "model=GBR.fit(x_train,y_train)\n",
    "y_pred=model.predict(test)\n",
    "submission[\"shares\"]=y_pred\n",
    "submission.to_csv(\"pred_GBR.csv\",index=False)"
   ]
  },
  {
   "cell_type": "code",
   "execution_count": 230,
   "metadata": {
    "execution": {
     "iopub.execute_input": "2022-08-30T13:03:48.606985Z",
     "iopub.status.busy": "2022-08-30T13:03:48.606652Z",
     "iopub.status.idle": "2022-08-30T13:03:55.119117Z",
     "shell.execute_reply": "2022-08-30T13:03:55.118016Z",
     "shell.execute_reply.started": "2022-08-30T13:03:48.606954Z"
    }
   },
   "outputs": [],
   "source": [
    "model=kn.fit(x_train,y_train)\n",
    "y_pred=model.predict(test)\n",
    "submission[\"shares\"]=y_pred\n",
    "submission.to_csv(\"pred_kn.csv\",index=False)"
   ]
  },
  {
   "cell_type": "code",
   "execution_count": 231,
   "metadata": {
    "execution": {
     "iopub.execute_input": "2022-08-30T13:03:55.121259Z",
     "iopub.status.busy": "2022-08-30T13:03:55.120777Z",
     "iopub.status.idle": "2022-08-30T13:03:57.599292Z",
     "shell.execute_reply": "2022-08-30T13:03:57.598340Z",
     "shell.execute_reply.started": "2022-08-30T13:03:55.121212Z"
    }
   },
   "outputs": [],
   "source": [
    "model=dt.fit(x_train,y_train)\n",
    "y_pred=model.predict(test)\n",
    "submission[\"shares\"]=y_pred\n",
    "submission.to_csv(\"pred_dt.csv\",index=False)"
   ]
  },
  {
   "cell_type": "code",
   "execution_count": 232,
   "metadata": {
    "execution": {
     "iopub.execute_input": "2022-08-30T13:03:57.600907Z",
     "iopub.status.busy": "2022-08-30T13:03:57.600587Z",
     "iopub.status.idle": "2022-08-30T13:04:05.593164Z",
     "shell.execute_reply": "2022-08-30T13:04:05.592020Z",
     "shell.execute_reply.started": "2022-08-30T13:03:57.600878Z"
    }
   },
   "outputs": [],
   "source": [
    "model=xgb.fit(x_train,y_train)\n",
    "y_pred=model.predict(test)\n",
    "submission[\"shares\"]=y_pred\n",
    "submission.to_csv(\"pred_xgb.csv\",index=False)"
   ]
  }
 ],
 "metadata": {
  "kernelspec": {
   "display_name": "Python 3 (ipykernel)",
   "language": "python",
   "name": "python3"
  },
  "language_info": {
   "codemirror_mode": {
    "name": "ipython",
    "version": 3
   },
   "file_extension": ".py",
   "mimetype": "text/x-python",
   "name": "python",
   "nbconvert_exporter": "python",
   "pygments_lexer": "ipython3",
   "version": "3.9.7"
  }
 },
 "nbformat": 4,
 "nbformat_minor": 4
}
